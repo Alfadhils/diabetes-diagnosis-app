{
 "cells": [
  {
   "cell_type": "code",
   "execution_count": 1,
   "metadata": {},
   "outputs": [],
   "source": [
    "import pandas as pd\n",
    "from sklearn.model_selection import train_test_split, cross_val_score\n",
    "from sklearn.preprocessing import StandardScaler\n",
    "from sklearn.pipeline import make_pipeline\n",
    "from sklearn.svm import SVC\n",
    "from sklearn.linear_model import LogisticRegression\n",
    "import joblib\n",
    "import numpy as np\n",
    "\n",
    "import json"
   ]
  },
  {
   "cell_type": "code",
   "execution_count": 2,
   "metadata": {},
   "outputs": [
    {
     "name": "stdout",
     "output_type": "stream",
     "text": [
      "Cross-validation scores: [0.74796748 0.80487805 0.73170732 0.73170732 0.78688525]\n",
      "Mean CV accuracy: 0.7606290817006529\n",
      "Test set accuracy: 0.7532467532467533\n"
     ]
    }
   ],
   "source": [
    "# Load the dataset\n",
    "df = pd.read_csv('data/diabetes.csv')\n",
    "\n",
    "# Separate features and target variable\n",
    "X = df.drop('Outcome', axis=1)\n",
    "y = df['Outcome']\n",
    "\n",
    "# Split data into train and test sets\n",
    "X_train, X_test, y_train, y_test = train_test_split(X, y, test_size=0.2, random_state=42)\n",
    "\n",
    "# Create a pipeline with StandardScaler and SVC classifier\n",
    "pipeline = make_pipeline(StandardScaler(), LogisticRegression())\n",
    "\n",
    "# Perform cross-validation on the training data\n",
    "# Here, we're using accuracy as the scoring metric\n",
    "# You can change the scoring metric as per your requirements\n",
    "cv_scores = cross_val_score(pipeline, X_train, y_train, cv=5, scoring='accuracy')\n",
    "\n",
    "# Print the cross-validation scores\n",
    "print(\"Cross-validation scores:\", cv_scores)\n",
    "print(\"Mean CV accuracy:\", np.mean(cv_scores))\n",
    "\n",
    "# Now, you can fit the pipeline on the whole training data\n",
    "pipeline.fit(X_train, y_train)\n",
    "\n",
    "# Evaluate the model on the test set\n",
    "test_score = pipeline.score(X_test, y_test)\n",
    "print(\"Test set accuracy:\", test_score)"
   ]
  },
  {
   "cell_type": "code",
   "execution_count": 3,
   "metadata": {},
   "outputs": [],
   "source": [
    "joblib.dump(pipeline, './model/logistic_regression_model.pkl')\n",
    "model  = joblib.load('./model/logistic_regression_model.pkl')"
   ]
  },
  {
   "cell_type": "code",
   "execution_count": 4,
   "metadata": {},
   "outputs": [
    {
     "name": "stdout",
     "output_type": "stream",
     "text": [
      "Test set accuracy: 0.7532467532467533\n"
     ]
    }
   ],
   "source": [
    "test_score = model.score(X_test, y_test)\n",
    "print(\"Test set accuracy:\", test_score)"
   ]
  },
  {
   "cell_type": "code",
   "execution_count": 5,
   "metadata": {},
   "outputs": [
    {
     "data": {
      "text/plain": [
       "array([[0.72263617, 0.27736383]])"
      ]
     },
     "execution_count": 5,
     "metadata": {},
     "output_type": "execute_result"
    }
   ],
   "source": [
    "data_new = X_test.iloc[[0]]\n",
    "model.predict_proba(data_new)"
   ]
  },
  {
   "cell_type": "code",
   "execution_count": 20,
   "metadata": {},
   "outputs": [
    {
     "name": "stdout",
     "output_type": "stream",
     "text": [
      "[[0.85785548 0.14214452]]\n"
     ]
    }
   ],
   "source": [
    "json_data = '{\"Pregnancies\": \"1\", \"Glucose\": \"100\", \"BloodPressure\": \"60\", \"SkinThickness\": \"30\", \"Insulin\": \"200\", \"BMI\": \"30\", \"DiabetesPedigreeFunction\": \"0.4\", \"Age\": \"40\"}'\n",
    "\n",
    "data = json.loads(json_data)\n",
    "data_df = pd.DataFrame(data, index=[0])\n",
    "\n",
    "model = joblib.load('./model/logistic_regression_model.pkl')\n",
    "\n",
    "prediction = model.predict_proba(data_df)\n",
    "print(prediction)"
   ]
  },
  {
   "cell_type": "code",
   "execution_count": 22,
   "metadata": {},
   "outputs": [
    {
     "name": "stdout",
     "output_type": "stream",
     "text": [
      "<class 'pandas.core.frame.DataFrame'>\n",
      "Index: 1 entries, 0 to 0\n",
      "Data columns (total 8 columns):\n",
      " #   Column                    Non-Null Count  Dtype \n",
      "---  ------                    --------------  ----- \n",
      " 0   Pregnancies               1 non-null      object\n",
      " 1   Glucose                   1 non-null      object\n",
      " 2   BloodPressure             1 non-null      object\n",
      " 3   SkinThickness             1 non-null      object\n",
      " 4   Insulin                   1 non-null      object\n",
      " 5   BMI                       1 non-null      object\n",
      " 6   DiabetesPedigreeFunction  1 non-null      object\n",
      " 7   Age                       1 non-null      object\n",
      "dtypes: object(8)\n",
      "memory usage: 72.0+ bytes\n"
     ]
    }
   ],
   "source": [
    "data_df.info()"
   ]
  },
  {
   "cell_type": "code",
   "execution_count": 15,
   "metadata": {},
   "outputs": [
    {
     "data": {
      "text/plain": [
       "{'Pregnancies': 1,\n",
       " 'Glucose': 100,\n",
       " 'BloodPressure': 60,\n",
       " 'SkinThickness': 30,\n",
       " 'Insulin': 200,\n",
       " 'BMI': 30,\n",
       " 'DiabetesPedigreeFunction': 0.4,\n",
       " 'Age': 40}"
      ]
     },
     "execution_count": 15,
     "metadata": {},
     "output_type": "execute_result"
    }
   ],
   "source": [
    "data"
   ]
  },
  {
   "cell_type": "code",
   "execution_count": 14,
   "metadata": {},
   "outputs": [
    {
     "data": {
      "text/plain": [
       "[0.8578554813867604, 0.1421445186132396]"
      ]
     },
     "execution_count": 14,
     "metadata": {},
     "output_type": "execute_result"
    }
   ],
   "source": [
    "prediction[0].tolist()"
   ]
  },
  {
   "cell_type": "code",
   "execution_count": null,
   "metadata": {},
   "outputs": [],
   "source": [
    "model = joblib.load('./model/logistic_regression_model.pkl')"
   ]
  }
 ],
 "metadata": {
  "kernelspec": {
   "display_name": "diagnosis-app",
   "language": "python",
   "name": "python3"
  },
  "language_info": {
   "codemirror_mode": {
    "name": "ipython",
    "version": 3
   },
   "file_extension": ".py",
   "mimetype": "text/x-python",
   "name": "python",
   "nbconvert_exporter": "python",
   "pygments_lexer": "ipython3",
   "version": "3.10.14"
  }
 },
 "nbformat": 4,
 "nbformat_minor": 2
}
